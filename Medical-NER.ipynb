{
 "cells": [
  {
   "cell_type": "code",
   "execution_count": 1,
   "id": "4fc9117b-f4d5-4240-a2de-ff49ebe70ba1",
   "metadata": {},
   "outputs": [],
   "source": [
    "# Use a pipeline as a high-level helper\n",
    "from transformers import pipeline\n",
    "\n",
    "ner_pipe = pipeline(\"ner\", model=\"Clinical-AI-Apollo/Medical-NER\")"
   ]
  },
  {
   "cell_type": "code",
   "execution_count": 2,
   "id": "c56ffef0-912a-433d-a73a-6ac54161ec65",
   "metadata": {},
   "outputs": [
    {
     "name": "stderr",
     "output_type": "stream",
     "text": [
      "Asking to truncate to max_length but no maximum length is provided and the model has no predefined maximum length. Default to no truncation.\n"
     ]
    },
    {
     "name": "stdout",
     "output_type": "stream",
     "text": [
      "{'entity_group': 'AGE', 'score': 0.9417426, 'word': '48 year-old', 'start': 2, 'end': 14}\n",
      "{'entity_group': 'SEX', 'score': 0.8182451, 'word': 'female', 'start': 14, 'end': 21}\n",
      "{'entity_group': 'CLINICAL_EVENT', 'score': 0.8529963, 'word': 'presented', 'start': 21, 'end': 31}\n",
      "{'entity_group': 'BIOLOGICAL_STRUCTURE', 'score': 0.94491494, 'word': 'vaginal', 'start': 36, 'end': 44}\n",
      "{'entity_group': 'SIGN_SYMPTOM', 'score': 0.87285537, 'word': 'bleeding', 'start': 44, 'end': 53}\n",
      "{'entity_group': 'LAB_VALUE', 'score': 0.76922417, 'word': 'abnormal', 'start': 57, 'end': 66}\n",
      "{'entity_group': 'DIAGNOSTIC_PROCEDURE', 'score': 0.9876611, 'word': 'Pap smears', 'start': 66, 'end': 77}\n",
      "{'entity_group': 'DETAILED_DESCRIPTION', 'score': 0.93441397, 'word': 'invasive', 'start': 97, 'end': 106}\n",
      "{'entity_group': 'DETAILED_DESCRIPTION', 'score': 0.96156234, 'word': 'non-keratinizing', 'start': 106, 'end': 123}\n",
      "{'entity_group': 'DISEASE_DISORDER', 'score': 0.7845087, 'word': 'SCC', 'start': 123, 'end': 127}\n",
      "{'entity_group': 'BIOLOGICAL_STRUCTURE', 'score': 0.9483011, 'word': 'cervix', 'start': 134, 'end': 141}\n",
      "{'entity_group': 'DETAILED_DESCRIPTION', 'score': 0.8292918, 'word': 'radical', 'start': 159, 'end': 167}\n",
      "{'entity_group': 'THERAPEUTIC_PROCEDURE', 'score': 0.79794747, 'word': 'hysterectomy', 'start': 167, 'end': 180}\n",
      "{'entity_group': 'THERAPEUTIC_PROCEDURE', 'score': 0.8797292, 'word': 'salpingo-oophorectomy', 'start': 185, 'end': 207}\n",
      "{'entity_group': 'DETAILED_DESCRIPTION', 'score': 0.4681455, 'word': 'positive', 'start': 226, 'end': 235}\n",
      "{'entity_group': 'BIOLOGICAL_STRUCTURE', 'score': 0.9578578, 'word': 'pelvic lymph nodes', 'start': 250, 'end': 269}\n",
      "{'entity_group': 'BIOLOGICAL_STRUCTURE', 'score': 0.929447, 'word': 'parametrium', 'start': 277, 'end': 289}\n",
      "{'entity_group': 'DIAGNOSTIC_PROCEDURE', 'score': 0.98906606, 'word': 'Pathological examination', 'start': 290, 'end': 315}\n",
      "{'entity_group': 'SIGN_SYMPTOM', 'score': 0.3974075, 'word': 'tumour', 'start': 334, 'end': 341}\n",
      "{'entity_group': 'BIOLOGICAL_STRUCTURE', 'score': 0.9633153, 'word': 'lower uterine segment', 'start': 371, 'end': 393}\n"
     ]
    }
   ],
   "source": [
    "text = '''\n",
    "A 48 year-old female presented with vaginal bleeding and abnormal Pap smears. \n",
    "Upon diagnosis of invasive non-keratinizing SCC of the cervix, she underwent a \n",
    "radical hysterectomy with salpingo-oophorectomy which demonstrated positive \n",
    "spread to the pelvic lymph nodes and the parametrium. Pathological examination \n",
    "revealed that the tumour also extensively involved the lower uterine segment.\n",
    "'''\n",
    "\n",
    "results = ner_pipe(text, aggregation_strategy = \"simple\")\n",
    "for e in results:\n",
    "    print (e)"
   ]
  },
  {
   "cell_type": "code",
   "execution_count": null,
   "id": "90623479-92eb-413f-bee6-2b2a42e16bdb",
   "metadata": {},
   "outputs": [],
   "source": []
  }
 ],
 "metadata": {
  "kernelspec": {
   "display_name": "general",
   "language": "python",
   "name": "general"
  },
  "language_info": {
   "codemirror_mode": {
    "name": "ipython",
    "version": 3
   },
   "file_extension": ".py",
   "mimetype": "text/x-python",
   "name": "python",
   "nbconvert_exporter": "python",
   "pygments_lexer": "ipython3",
   "version": "3.10.12"
  }
 },
 "nbformat": 4,
 "nbformat_minor": 5
}

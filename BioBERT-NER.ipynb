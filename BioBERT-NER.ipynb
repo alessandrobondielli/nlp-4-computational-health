{
 "cells": [
  {
   "cell_type": "markdown",
   "id": "73f3d6a4-aed0-4284-b355-4badf12545f6",
   "metadata": {},
   "source": [
    "# BioBERT"
   ]
  },
  {
   "cell_type": "code",
   "execution_count": 1,
   "id": "cbc0d179-524c-4220-b2da-d08f136bffb5",
   "metadata": {},
   "outputs": [],
   "source": [
    "#!pip install transformers"
   ]
  },
  {
   "cell_type": "markdown",
   "id": "3b56940b-2233-400d-a376-ac0b1131137a",
   "metadata": {},
   "source": [
    "## Fill Mask VS BERT"
   ]
  },
  {
   "cell_type": "code",
   "execution_count": 2,
   "id": "8837425a-fff7-4a6c-955c-53449e0607df",
   "metadata": {},
   "outputs": [],
   "source": [
    "masked_text = \"The doctor prescribed antibiotics to treat the patient's [MASK] infection.\""
   ]
  },
  {
   "cell_type": "code",
   "execution_count": 3,
   "id": "7b01466e-11e8-4879-ade7-362368cbaf5b",
   "metadata": {},
   "outputs": [],
   "source": [
    "from transformers import pipeline"
   ]
  },
  {
   "cell_type": "code",
   "execution_count": 4,
   "id": "00444338-2b30-4c7c-b03f-3cbe4663cc5a",
   "metadata": {},
   "outputs": [
    {
     "name": "stderr",
     "output_type": "stream",
     "text": [
      "Some weights of the model checkpoint at google-bert/bert-base-cased were not used when initializing BertForMaskedLM: ['cls.seq_relationship.bias', 'bert.pooler.dense.bias', 'cls.seq_relationship.weight', 'bert.pooler.dense.weight']\n",
      "- This IS expected if you are initializing BertForMaskedLM from the checkpoint of a model trained on another task or with another architecture (e.g. initializing a BertForSequenceClassification model from a BertForPreTraining model).\n",
      "- This IS NOT expected if you are initializing BertForMaskedLM from the checkpoint of a model that you expect to be exactly identical (initializing a BertForSequenceClassification model from a BertForSequenceClassification model).\n"
     ]
    },
    {
     "data": {
      "text/plain": [
       "[{'score': 0.06669342517852783,\n",
       "  'token': 13306,\n",
       "  'token_str': 'chronic',\n",
       "  'sequence': \"The doctor prescribed antibiotics to treat the patient's chronic infection.\"},\n",
       " {'score': 0.06559422612190247,\n",
       "  'token': 19560,\n",
       "  'token_str': 'bacterial',\n",
       "  'sequence': \"The doctor prescribed antibiotics to treat the patient's bacterial infection.\"},\n",
       " {'score': 0.055493537336587906,\n",
       "  'token': 3472,\n",
       "  'token_str': 'stomach',\n",
       "  'sequence': \"The doctor prescribed antibiotics to treat the patient's stomach infection.\"}]"
      ]
     },
     "execution_count": 4,
     "metadata": {},
     "output_type": "execute_result"
    }
   ],
   "source": [
    "mask_filler = pipeline(\"fill-mask\", \"google-bert/bert-base-cased\")\n",
    "mask_filler(masked_text, top_k=3)"
   ]
  },
  {
   "cell_type": "code",
   "execution_count": 5,
   "id": "0bb99579-2a75-4ba2-9add-c4af16a2e99e",
   "metadata": {},
   "outputs": [
    {
     "name": "stderr",
     "output_type": "stream",
     "text": [
      "Some weights of the model checkpoint at dmis-lab/biobert-base-cased-v1.2 were not used when initializing BertForMaskedLM: ['cls.seq_relationship.bias', 'bert.pooler.dense.bias', 'cls.seq_relationship.weight', 'bert.pooler.dense.weight']\n",
      "- This IS expected if you are initializing BertForMaskedLM from the checkpoint of a model trained on another task or with another architecture (e.g. initializing a BertForSequenceClassification model from a BertForPreTraining model).\n",
      "- This IS NOT expected if you are initializing BertForMaskedLM from the checkpoint of a model that you expect to be exactly identical (initializing a BertForSequenceClassification model from a BertForSequenceClassification model).\n"
     ]
    },
    {
     "data": {
      "text/plain": [
       "[{'score': 0.14005273580551147,\n",
       "  'token': 9622,\n",
       "  'token_str': 'HIV',\n",
       "  'sequence': \"the doctor prescribed antibiotics to treat the patient's HIV infection.\"},\n",
       " {'score': 0.0697694942355156,\n",
       "  'token': 2241,\n",
       "  'token_str': 'skin',\n",
       "  'sequence': \"the doctor prescribed antibiotics to treat the patient's skin infection.\"},\n",
       " {'score': 0.054565902799367905,\n",
       "  'token': 19192,\n",
       "  'token_str': 'respiratory',\n",
       "  'sequence': \"the doctor prescribed antibiotics to treat the patient's respiratory infection.\"}]"
      ]
     },
     "execution_count": 5,
     "metadata": {},
     "output_type": "execute_result"
    }
   ],
   "source": [
    "mask_filler = pipeline(\"fill-mask\", \"dmis-lab/biobert-base-cased-v1.2\")\n",
    "mask_filler(masked_text, top_k=3)"
   ]
  },
  {
   "cell_type": "markdown",
   "id": "3fe23810-29f5-4af2-bbec-d0d211e90f7f",
   "metadata": {},
   "source": [
    "## NER"
   ]
  },
  {
   "cell_type": "code",
   "execution_count": 6,
   "id": "c56ffef0-912a-433d-a73a-6ac54161ec65",
   "metadata": {},
   "outputs": [],
   "source": [
    "text = '''\n",
    "A 48 year-old female presented with vaginal bleeding and abnormal Pap smears. \n",
    "Upon diagnosis of invasive non-keratinizing SCC of the cervix, she underwent a \n",
    "radical hysterectomy with salpingo-oophorectomy which demonstrated positive \n",
    "spread to the pelvic lymph nodes and the parametrium. Pathological examination \n",
    "revealed that the tumour also extensively involved the lower uterine segment.\n",
    "'''"
   ]
  },
  {
   "cell_type": "code",
   "execution_count": 7,
   "id": "90623479-92eb-413f-bee6-2b2a42e16bdb",
   "metadata": {},
   "outputs": [
    {
     "name": "stderr",
     "output_type": "stream",
     "text": [
      "Asking to truncate to max_length but no maximum length is provided and the model has no predefined maximum length. Default to no truncation.\n"
     ]
    },
    {
     "name": "stdout",
     "output_type": "stream",
     "text": [
      "{'entity_group': 'Disease', 'score': 0.9995035, 'word': 'v', 'start': 37, 'end': 38}\n",
      "{'entity_group': 'Disease', 'score': 0.99942905, 'word': '##agi', 'start': 38, 'end': 41}\n",
      "{'entity_group': 'Disease', 'score': 0.9990461, 'word': '##nal bleeding', 'start': 41, 'end': 53}\n",
      "{'entity_group': 'Disease', 'score': 0.99946207, 'word': 't', 'start': 335, 'end': 336}\n",
      "{'entity_group': 'Disease', 'score': 0.9993754, 'word': '##umour', 'start': 336, 'end': 341}\n"
     ]
    }
   ],
   "source": [
    "# Use a pipeline as a high-level helper\n",
    "from transformers import pipeline\n",
    "\n",
    "ner_pipe = pipeline(\"ner\", model=\"jordyvl/biobert-base-cased-v1.2_ncbi_disease-sm-first-ner\")\n",
    "\n",
    "results = ner_pipe(text, aggregation_strategy = \"simple\")\n",
    "for e in results:\n",
    "    print (e)"
   ]
  },
  {
   "cell_type": "code",
   "execution_count": null,
   "id": "041015d3-e9ee-469d-958d-11146fecd646",
   "metadata": {},
   "outputs": [],
   "source": []
  }
 ],
 "metadata": {
  "kernelspec": {
   "display_name": "general",
   "language": "python",
   "name": "general"
  },
  "language_info": {
   "codemirror_mode": {
    "name": "ipython",
    "version": 3
   },
   "file_extension": ".py",
   "mimetype": "text/x-python",
   "name": "python",
   "nbconvert_exporter": "python",
   "pygments_lexer": "ipython3",
   "version": "3.10.12"
  }
 },
 "nbformat": 4,
 "nbformat_minor": 5
}
